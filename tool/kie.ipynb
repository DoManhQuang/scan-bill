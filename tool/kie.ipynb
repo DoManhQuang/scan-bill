{
 "cells": [
  {
   "cell_type": "code",
   "execution_count": 19,
   "metadata": {},
   "outputs": [],
   "source": [
    "import pandas as pd\n",
    "from ast import literal_eval\n",
    "import numpy as np\n",
    "import json"
   ]
  },
  {
   "cell_type": "code",
   "execution_count": 50,
   "metadata": {},
   "outputs": [],
   "source": [
    "\n",
    "df_val = pd.read_csv(f\"/home/fit/optivisionlab/scan-bill/dataset/money_keypoint_landmarks/mb/images/ValLabel.txt\", sep=\"\\t\", header=None)\n",
    "df_train = pd.read_csv(f\"/home/fit/optivisionlab/scan-bill/dataset/money_keypoint_landmarks/mb/images/TrainLabel.txt\", sep=\"\\t\", header=None)"
   ]
  },
  {
   "cell_type": "code",
   "execution_count": 51,
   "metadata": {},
   "outputs": [],
   "source": [
    "classes = []\n",
    "for i, txt_labels in enumerate(df_val[1].values):\n",
    "    json_labels = json.loads(str(txt_labels))\n",
    "    # print(json_labels)\n",
    "    for json_data in json_labels:\n",
    "        # print(json_data['key_cls'] , type(json_data['key_cls']))\n",
    "        if json_data['key_cls'] == 'None':\n",
    "            json_data['key_cls'] = 'OTHER'\n",
    "        classes.append(json_data['key_cls'].upper())\n",
    "    # print(json_labels)\n",
    "    df_val[1].values[i] = json_labels\n",
    "\n",
    "\n",
    "for i, txt_labels in enumerate(df_train[1].values):\n",
    "    json_labels = json.loads(str(txt_labels))\n",
    "    # print(json_labels)\n",
    "    for json_data in json_labels:\n",
    "        # print(json_data['key_cls'] , type(json_data['key_cls']))\n",
    "        if json_data['key_cls'] == 'None':\n",
    "            json_data['key_cls'] = 'OTHER'\n",
    "        classes.append(json_data['key_cls'].upper())\n",
    "    # print(json_labels)\n",
    "    df_train[1].values[i] = json_labels"
   ]
  },
  {
   "cell_type": "code",
   "execution_count": 56,
   "metadata": {},
   "outputs": [],
   "source": [
    "df_train.to_csv(f\"/home/fit/optivisionlab/scan-bill/dataset/money_keypoint_landmarks/mb/images/TrainLabel_mbb.txt\", header=None, sep=\"\\t\", index=False)\n",
    "df_val.to_csv(f\"/home/fit/optivisionlab/scan-bill/dataset/money_keypoint_landmarks/mb/images/ValLabel_mbb.txt\", header=None, sep=\"\\t\", index=False)"
   ]
  },
  {
   "cell_type": "code",
   "execution_count": 53,
   "metadata": {},
   "outputs": [
    {
     "data": {
      "text/html": [
       "<div>\n",
       "<style scoped>\n",
       "    .dataframe tbody tr th:only-of-type {\n",
       "        vertical-align: middle;\n",
       "    }\n",
       "\n",
       "    .dataframe tbody tr th {\n",
       "        vertical-align: top;\n",
       "    }\n",
       "\n",
       "    .dataframe thead th {\n",
       "        text-align: right;\n",
       "    }\n",
       "</style>\n",
       "<table border=\"1\" class=\"dataframe\">\n",
       "  <thead>\n",
       "    <tr style=\"text-align: right;\">\n",
       "      <th></th>\n",
       "      <th>0</th>\n",
       "    </tr>\n",
       "  </thead>\n",
       "  <tbody>\n",
       "    <tr>\n",
       "      <th>0</th>\n",
       "      <td>DEN_TAI_KHOAN_CT</td>\n",
       "    </tr>\n",
       "    <tr>\n",
       "      <th>1</th>\n",
       "      <td>DEN_TAI_KHOAN_STK</td>\n",
       "    </tr>\n",
       "    <tr>\n",
       "      <th>2</th>\n",
       "      <td>DEN_TAI_KHOAN_TEN</td>\n",
       "    </tr>\n",
       "    <tr>\n",
       "      <th>3</th>\n",
       "      <td>HINH_THUC_CHUYEN</td>\n",
       "    </tr>\n",
       "    <tr>\n",
       "      <th>4</th>\n",
       "      <td>MA_GIAO_DICH</td>\n",
       "    </tr>\n",
       "    <tr>\n",
       "      <th>5</th>\n",
       "      <td>NOI_DUNG</td>\n",
       "    </tr>\n",
       "    <tr>\n",
       "      <th>6</th>\n",
       "      <td>OTHER</td>\n",
       "    </tr>\n",
       "    <tr>\n",
       "      <th>7</th>\n",
       "      <td>SO_TIEN</td>\n",
       "    </tr>\n",
       "    <tr>\n",
       "      <th>8</th>\n",
       "      <td>TAI_KHOAN_NGUON_STK</td>\n",
       "    </tr>\n",
       "    <tr>\n",
       "      <th>9</th>\n",
       "      <td>TAI_KHOAN_NGUON_TEN</td>\n",
       "    </tr>\n",
       "    <tr>\n",
       "      <th>10</th>\n",
       "      <td>THOI_GIAN</td>\n",
       "    </tr>\n",
       "  </tbody>\n",
       "</table>\n",
       "</div>"
      ],
      "text/plain": [
       "                      0\n",
       "0      DEN_TAI_KHOAN_CT\n",
       "1     DEN_TAI_KHOAN_STK\n",
       "2     DEN_TAI_KHOAN_TEN\n",
       "3      HINH_THUC_CHUYEN\n",
       "4          MA_GIAO_DICH\n",
       "5              NOI_DUNG\n",
       "6                 OTHER\n",
       "7               SO_TIEN\n",
       "8   TAI_KHOAN_NGUON_STK\n",
       "9   TAI_KHOAN_NGUON_TEN\n",
       "10            THOI_GIAN"
      ]
     },
     "execution_count": 53,
     "metadata": {},
     "output_type": "execute_result"
    }
   ],
   "source": [
    "classes = np.unique(classes)\n",
    "classes\n",
    "df_txt = pd.DataFrame(classes)\n",
    "df_txt.to_csv(\"/home/fit/optivisionlab/scan-bill/dataset/money_keypoint_landmarks/mb/images/classes.txt\", header=None, index=False)\n",
    "df_txt"
   ]
  }
 ],
 "metadata": {
  "kernelspec": {
   "display_name": "yolov8",
   "language": "python",
   "name": "python3"
  },
  "language_info": {
   "codemirror_mode": {
    "name": "ipython",
    "version": 3
   },
   "file_extension": ".py",
   "mimetype": "text/x-python",
   "name": "python",
   "nbconvert_exporter": "python",
   "pygments_lexer": "ipython3",
   "version": "3.10.0"
  }
 },
 "nbformat": 4,
 "nbformat_minor": 2
}
